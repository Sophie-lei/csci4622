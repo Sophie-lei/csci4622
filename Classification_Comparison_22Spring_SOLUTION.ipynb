{
 "cells": [
  {
   "cell_type": "code",
   "execution_count": null,
   "metadata": {
    "id": "8d7c8e8a",
    "outputId": "4af7b499-3231-4b83-af48-3b8a305cf83a"
   },
   "outputs": [
    {
     "name": "stdout",
     "output_type": "stream",
     "text": [
      "K Nearest Neighbors\n",
      "0.9122807017543859\n",
      "Naive Bayes\n",
      "0.9298245614035088\n",
      "Decision Tree\n",
      "0.9473684210526315\n",
      "Random Forest\n",
      "0.9649122807017544\n",
      "AdaBoost\n",
      "0.9912280701754386\n"
     ]
    }
   ],
   "source": [
    "import sklearn.datasets\n",
    "import sklearn.model_selection\n",
    "import sklearn.neighbors\n",
    "import sklearn.naive_bayes\n",
    "import sklearn.tree\n",
    "import sklearn.ensemble\n",
    "\n",
    "data = sklearn.datasets.load_breast_cancer()\n",
    "\n",
    "data_X = data.data\n",
    "data_y = data.target\n",
    "\n",
    "#print(data_X.shape)\n",
    "#print(data_y.shape)\n",
    "\n",
    "X_train, X_test, y_train, y_test = sklearn.model_selection.train_test_split(data_X, data_y, train_size=0.8)\n",
    "\n",
    "#print(data_X)\n",
    "#print(data_y)\n",
    "\n",
    "neighbors_model = sklearn.neighbors.KNeighborsClassifier(n_neighbors=3)\n",
    "neighbors_model.fit(X_train, y_train)\n",
    "print(\"K Nearest Neighbors\")\n",
    "print(neighbors_model.score(X_test, y_test))\n",
    "\n",
    "bayes_model = sklearn.naive_bayes.GaussianNB()\n",
    "bayes_model.fit(X_train, y_train)\n",
    "print(\"Naive Bayes\")\n",
    "print(bayes_model.score(X_test, y_test))\n",
    "\n",
    "tree_model = sklearn.tree.DecisionTreeClassifier()\n",
    "tree_model.fit(X_train, y_train)\n",
    "print(\"Decision Tree\")\n",
    "print(tree_model.score(X_test, y_test))\n",
    "\n",
    "forest_model = sklearn.ensemble.RandomForestClassifier(n_estimators=50)\n",
    "forest_model.fit(X_train, y_train)\n",
    "print(\"Random Forest\")\n",
    "print(forest_model.score(X_test, y_test))\n",
    "\n",
    "boost_model = sklearn.ensemble.AdaBoostClassifier(n_estimators=50)\n",
    "boost_model.fit(X_train, y_train)\n",
    "print(\"AdaBoost\")\n",
    "print(boost_model.score(X_test, y_test))\n"
   ]
  },
  {
   "cell_type": "code",
   "execution_count": null,
   "metadata": {
    "id": "b4b1a923"
   },
   "outputs": [],
   "source": []
  }
 ],
 "metadata": {
  "colab": {
   "collapsed_sections": [],
   "name": "Classification_Comparison_22Spring_SOLUTION.ipynb",
   "provenance": []
  },
  "kernelspec": {
   "display_name": "Python 3",
   "language": "python",
   "name": "python3"
  },
  "language_info": {
   "codemirror_mode": {
    "name": "ipython",
    "version": 3
   },
   "file_extension": ".py",
   "mimetype": "text/x-python",
   "name": "python",
   "nbconvert_exporter": "python",
   "pygments_lexer": "ipython3",
   "version": "3.8.5"
  }
 },
 "nbformat": 4,
 "nbformat_minor": 5
}
